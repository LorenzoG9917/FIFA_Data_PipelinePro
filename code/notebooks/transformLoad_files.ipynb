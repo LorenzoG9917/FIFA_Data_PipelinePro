{
  "nbformat": 4,
  "nbformat_minor": 0,
  "metadata": {
    "colab": {
      "provenance": []
    },
    "kernelspec": {
      "name": "python3",
      "display_name": "Python 3"
    },
    "language_info": {
      "name": "python"
    }
  },
  "cells": [
    {
      "cell_type": "code",
      "source": [
        "from google.colab import drive\n",
        "drive.mount('/content/drive')"
      ],
      "metadata": {
        "colab": {
          "base_uri": "https://localhost:8080/"
        },
        "id": "wcVm6LZMGpr9",
        "outputId": "c8965313-542c-4cfa-e864-fa35baadd551"
      },
      "execution_count": null,
      "outputs": [
        {
          "output_type": "stream",
          "name": "stdout",
          "text": [
            "Drive already mounted at /content/drive; to attempt to forcibly remount, call drive.mount(\"/content/drive\", force_remount=True).\n"
          ]
        }
      ]
    },
    {
      "cell_type": "code",
      "execution_count": null,
      "metadata": {
        "id": "lMbEIDwOGiSk"
      },
      "outputs": [],
      "source": [
        "# Setear credenciales y nombre del bucket\n",
        "import os\n",
        "from google.cloud import storage\n",
        "import pandas as pd\n",
        "os.environ['GOOGLE_APPLICATION_CREDENTIALS'] = '/content/drive/MyDrive/Colab Notebooks/Fifa World Cup - EDA/keys/service-fifa-lg.json'\n",
        "files = os.listdir('/content/drive/MyDrive/Colab Notebooks/Fifa World Cup - EDA/data')\n",
        "bucket_name = 'fifa_project'\n"
      ]
    },
    {
      "cell_type": "code",
      "source": [
        "# Listar objetos existentes en el bucket de Cloud Storage\n",
        "def list_blobs(bucket_name):\n",
        "    \"\"\"Lists all the blobs in the bucket.\"\"\"\n",
        "    storage_client = storage.Client()\n",
        "    blobs = storage_client.list_blobs(bucket_name)\n",
        "    return [blob.name for blob in blobs]"
      ],
      "metadata": {
        "id": "Axm9PllnHATO"
      },
      "execution_count": null,
      "outputs": []
    },
    {
      "cell_type": "code",
      "source": [
        "list_objects = list_blobs(bucket_name)"
      ],
      "metadata": {
        "id": "HmUiInBqHHQX"
      },
      "execution_count": null,
      "outputs": []
    },
    {
      "cell_type": "code",
      "source": [
        "\n",
        "list_objects"
      ],
      "metadata": {
        "colab": {
          "base_uri": "https://localhost:8080/"
        },
        "id": "cMw8ZCkWIXy-",
        "outputId": "8f40a7bc-dfb0-4954-8365-e7a68ea35e8c"
      },
      "execution_count": null,
      "outputs": [
        {
          "output_type": "execute_result",
          "data": {
            "text/plain": [
              "['gold_data/matches_worldcup_gold.csv',\n",
              " 'gold_data/players_gold.csv',\n",
              " 'gold_data/worldcups_gold.csv',\n",
              " 'raw_data/WorldCupMatches.csv',\n",
              " 'raw_data/WorldCupPlayers.csv',\n",
              " 'raw_data/WorldCups.csv']"
            ]
          },
          "metadata": {},
          "execution_count": 5
        }
      ]
    },
    {
      "cell_type": "code",
      "source": [
        "# Leer data de Cloud Storage\n",
        "worldcups = pd.read_csv( f'gs://{bucket_name}/raw_data/WorldCups.csv')\n",
        "players_worldcups = pd.read_csv( f'gs://{bucket_name}/raw_data/WorldCupPlayers.csv')\n",
        "matches_worldcups = pd.read_csv( f'gs://{bucket_name}/raw_data/WorldCupMatches.csv')"
      ],
      "metadata": {
        "id": "pvvIgGWpKhY9"
      },
      "execution_count": null,
      "outputs": []
    },
    {
      "cell_type": "code",
      "source": [
        "# Transformación de raw data a gold\n",
        "def data_transform(valor):\n",
        "  #Función para reemplazar los . por ningun espacio para luego convertir a int64 toda la tabla\n",
        "  nuevo_valor = valor.replace(\".\",\"\")\n",
        "  return nuevo_valor\n",
        "\n",
        "#Dataframe worldcups\n",
        "if worldcups['Attendance'].dtype != int:\n",
        "  worldcups['Attendance'] = worldcups['Attendance'].apply(data_transform) #Aplicar función de data_transform\n",
        "  worldcups['Attendance'] = worldcups['Attendance'].astype('int64') #Pasar a int64 toda la tabla\n",
        "  worldcups = worldcups.rename(columns=lambda x: x.replace('-', '_').lower()) #Change the name of the columns to avoid problems in BigQuery\n",
        "\n",
        "\n",
        "#Datrframes players_worldcups\n",
        "players = players_worldcups.drop_duplicates()\n",
        "players_worldcups = players.rename(columns=lambda x: x.replace(' ', '_').lower())\n",
        "players_worldcups = players_worldcups.rename(columns=lambda x: x.replace('-', '_').lower())\n",
        "#Dataframes matches_worldcups\n",
        "matches_wc = matches_worldcups.dropna() #Borrar valores NA de la columna dropna\n",
        "matches_worldcup = matches_wc.drop_duplicates() #Drop duplicates\n",
        "#Convertir multiples columnas usando un diccionario\n",
        "# using dictionary to convert specific columns\n",
        "convert_dict = {\n",
        "                'Year': int,\n",
        "                'Home Team Goals': int,\n",
        "                'Away Team Goals': int,\n",
        "                'Attendance':int,\n",
        "                'Half-time Home Goals':int,\n",
        "                'Half-time Away Goals':int,\n",
        "                'RoundID':int,\n",
        "                'MatchID':int\n",
        "                }\n",
        "\n",
        "\n",
        "matches_worldcup = matches_worldcup.astype(convert_dict)\n",
        "matches_worldcup  = matches_worldcup.rename(columns=lambda x: x.replace(' ', '_').lower()) #Change the name of the columns to avoid problems in BigQuery\n",
        "matches_worldcup  = matches_worldcup.rename(columns=lambda x: x.replace('-', '_').lower()) #Change the name of the columns to avoid problems in BigQuery\n",
        "\n",
        "\n",
        "\n"
      ],
      "metadata": {
        "id": "UcdvG2SIOouN"
      },
      "execution_count": null,
      "outputs": []
    },
    {
      "cell_type": "code",
      "source": [
        "\n",
        "#Carga de gold data a Cloud Storage\n",
        "def list_blobs(bucket_name):\n",
        "    \"\"\"Lists all the blobs in the bucket.\"\"\"\n",
        "    storage_client = storage.Client()\n",
        "    blobs = storage_client.list_blobs(bucket_name)\n",
        "    return [blob.name for blob in blobs]\n",
        "\n",
        "def upload_blob(bucket_name, data_frame, destination_blob_name):\n",
        "    \"\"\"Uploads a DataFrame to the bucket as a CSV file.\"\"\"\n",
        "    storage_client = storage.Client()\n",
        "    bucket = storage_client.bucket(bucket_name)\n",
        "\n",
        "    try:\n",
        "        # Check if the destination blob already exists in the bucket\n",
        "        if destination_blob_name in list_blobs(bucket_name):\n",
        "            print(f\"File {destination_blob_name} already exists in the bucket. Skipping upload.\")\n",
        "        else:\n",
        "            blob = bucket.blob(destination_blob_name)\n",
        "            blob.upload_from_string(data_frame.to_csv(index=False), content_type='text/csv')\n",
        "            print(f\"DataFrame uploaded to {destination_blob_name}.\")\n",
        "    except Exception as e:\n",
        "        print(f\"An error occurred while uploading DataFrame to {destination_blob_name}: {e}\")\n",
        "\n",
        "\n",
        "dataframes = {\n",
        "    'worldcups': worldcups,\n",
        "    'players': players,\n",
        "    'matches_worldcup': matches_worldcup\n",
        "}\n",
        "\n",
        "for df_name, df in dataframes.items():\n",
        "    destination_blob_name = f'gold_data/{df_name}_gold.csv'\n",
        "    upload_blob(bucket_name, df, destination_blob_name)"
      ],
      "metadata": {
        "colab": {
          "base_uri": "https://localhost:8080/"
        },
        "id": "O125jguTfC-M",
        "outputId": "25ebdac8-b4b5-4405-9ea5-73a6e29c4abf"
      },
      "execution_count": null,
      "outputs": [
        {
          "output_type": "stream",
          "name": "stdout",
          "text": [
            "File gold_data/worldcups_gold.csv already exists in the bucket. Skipping upload.\n",
            "File gold_data/players_gold.csv already exists in the bucket. Skipping upload.\n",
            "File gold_data/matches_worldcup_gold.csv already exists in the bucket. Skipping upload.\n"
          ]
        }
      ]
    },
    {
      "cell_type": "code",
      "source": [
        "#Carga de gold data a BigQuery\n",
        "from google.cloud import bigquery\n",
        "project_id = 'sqlcursolg'  # Replace with your Google Cloud Project ID\n",
        "dataset_id = 'gold_data_fifa'  # Replace with the desired BigQuery dataset ID\n",
        "\n",
        "def create_bigquery_dataset_if_not_exists(client, dataset_id):\n",
        "    \"\"\"Create a BigQuery dataset if it does not exist.\"\"\"\n",
        "    dataset_ref = client.dataset(dataset_id)\n",
        "    try:\n",
        "        client.get_dataset(dataset_ref)\n",
        "        print(f\"Dataset '{dataset_id}' already exists.\")\n",
        "    except Exception as e:\n",
        "        dataset = bigquery.Dataset(dataset_ref)\n",
        "        dataset = client.create_dataset(dataset)\n",
        "        print(f\"Dataset '{dataset_id}' created.\")\n",
        "\n",
        "def upload_dataframe_to_bigquery(client, dataframe, table_name):\n",
        "    \"\"\"Upload a DataFrame to BigQuery as a new table.\"\"\"\n",
        "    table_id = f\"{project_id}.{dataset_id}.{table_name}\"\n",
        "    job_config = bigquery.LoadJobConfig()\n",
        "    job_config.autodetect = True # Automatically detect schema from DataFrame\n",
        "    job_config.write_disposition = bigquery.WriteDisposition.WRITE_TRUNCATE\n",
        "    job = client.load_table_from_dataframe(dataframe, table_id, job_config=job_config)\n",
        "    job.result()  # Wait for the job to complete\n",
        "    print(f\"DataFrame uploaded to BigQuery table: {table_id}\")\n",
        "\n",
        "# Assume you have already loaded 'worldcups', 'players', and 'matches_worldcup' DataFrames\n",
        "\n",
        "# Create a BigQuery client\n",
        "bigquery_client = bigquery.Client(project=project_id)\n",
        "\n",
        "# Create a BigQuery dataset if it does not exist\n",
        "create_bigquery_dataset_if_not_exists(bigquery_client, dataset_id)\n",
        "\n",
        "# Upload DataFrames to BigQuery tables\n",
        "\n",
        "upload_dataframe_to_bigquery(bigquery_client, worldcups, 'worldcups_gold')\n",
        "upload_dataframe_to_bigquery(bigquery_client, players, 'players_gold')\n",
        "upload_dataframe_to_bigquery(bigquery_client, matches_worldcup, 'matches_worldcup_gold')\n"
      ],
      "metadata": {
        "id": "jQyFOD4-ilZN",
        "colab": {
          "base_uri": "https://localhost:8080/"
        },
        "outputId": "8dbd2b5c-ab63-44e1-fa30-c285e0fbac95"
      },
      "execution_count": null,
      "outputs": [
        {
          "output_type": "stream",
          "name": "stdout",
          "text": [
            "Dataset 'gold_data_fifa' already exists.\n",
            "DataFrame uploaded to BigQuery table: sqlcursolg.gold_data_fifa.worldcups_gold\n",
            "DataFrame uploaded to BigQuery table: sqlcursolg.gold_data_fifa.players_gold\n",
            "DataFrame uploaded to BigQuery table: sqlcursolg.gold_data_fifa.matches_worldcup_gold\n"
          ]
        }
      ]
    },
    {
      "cell_type": "code",
      "source": [
        "# Transformación de gold data a dashboard gold data dataframe worldcups\n",
        "# 1 Insights -> (Top paises ganadores copas del mundo)\n",
        "result_winners = worldcups.get(['country','winner']).groupby('winner',as_index=False).count().sort_values(by='country',ascending=False)\n",
        "result_winners = result_winners.rename(columns={'Country': 'quantity'})\n",
        "result_winners = result_winners.reset_index(drop=True)\n",
        "# 2 Insights -> (Top 10 mundiales con más goles)\n",
        "worldcups_top_goals = worldcups.sort_values(by='goalsscored',ascending=False).head(10)\n",
        "# 3 Insights -> (Top 5 mundiales con más asistencias)\n",
        "attendance_top = worldcups.sort_values(by='attendance',ascending=False).head(5)\n",
        "# 4 Insights ->  (Paises que han sido sede > 1)\n",
        "sedes_mundiales = worldcups.get(['country','winner']).groupby('country',as_index=False).count().sort_values(by='winner',ascending=False).reset_index(drop=True)\n",
        "sedes_mundiales = sedes_mundiales.rename(columns={'winner': 'quantity'})\n",
        "sedes_mundiales = sedes_mundiales.query('quantity > 1')\n",
        "# 5 Insights -> (Paises que fueron campeones siendo sede)\n",
        "campeones_sede = worldcups[['year','country','winner']].query('country == winner')\n",
        "# 6 Insights -> (Goles,Asistencia y Partidos jugados totales)\n",
        "metricas = worldcups[['goalsscored','attendance','matchesplayed']].sum().reset_index()\n",
        "metricas.columns = ['metrica','total']\n",
        "avg_goal = round(metricas.loc[0][1] / metricas.loc[2][1], 2)\n",
        "metricas.loc[len(metricas.index)] = ['Avg_Goal_Match ',avg_goal]\n",
        "\n"
      ],
      "metadata": {
        "id": "5SOEnNWv744s"
      },
      "execution_count": null,
      "outputs": []
    },
    {
      "cell_type": "code",
      "source": [
        "# Transformación de gold data a dashboard gold data dataframe players\n",
        "\n",
        "# 7 Inisghts -> Top 10 goleadores en mundiales\n",
        "# Crear función para que me cree columna con el número de goles por partido\n",
        "def cantidad_goles(cadena):\n",
        "    return cadena.count('G') + cadena.count('P')\n",
        "df_players_events = players_worldcups.dropna(subset = ['event']) #Eliminar registros sin eventos\n",
        "df_players_events['goals'] = df_players_events['event'].apply(cantidad_goles) #Crear columna goles donde salgan los goles por partido\n",
        "top_10_scorers = df_players_events.get(['player_name','team_initials','goals']).groupby(['player_name','team_initials'],as_index=False).sum().sort_values(by='goals',ascending=False).head(10).reset_index(drop=True)\n",
        "# 8 Insights -> Top 5 jugadores que anotaron más goles en un partido\n",
        "top_5_playersgoals_match = df_players_events.sort_values(by='goals',ascending=False).head(5).reset_index(drop=True)\n",
        "# 9 Insights -> Top 10 jugadores con más partidos jugados\n",
        "# S --> Inicialista\n",
        "# N ---> Suplente\n",
        "# Event --> I or IH46 --> Jugo\n",
        "df_players_matchs = players_worldcups\n",
        "df_players_matchs['matchs_line_up'] = df_players_matchs['line_up'].map({'S':1 ,'N':0}) #Crear columna donde se mapea si entro de inicialista o no\n",
        "df_players_matchs['event'] = df_players_matchs['event'].fillna('N/A') # Llenar valores nulos con el string 'N/A'\n",
        "# Crear función para que me cree columna con 1 si entro de cambio  o con 0 si se quedo en la banca\n",
        "def cantidad_partidos(cadena):\n",
        "    return cadena.count('I')\n",
        "df_players_matchs['matchs_event'] = df_players_matchs['event'].apply(cantidad_partidos)\n",
        "df_players_matchs['matchs'] = df_players_matchs['matchs_line_up'] + df_players_matchs['matchs_event'] # Crear columna que sume las dos columnas anteriores\n",
        "top_10_matchesplayers = df_players_matchs.get(['player_name','team_initials','matchs']).groupby(['player_name','team_initials'],as_index=False).sum().sort_values(by='matchs',ascending=False).head(10).reset_index(drop=True)\n",
        "# 10 Insights -> Top 10 capitanes con más\n",
        "goles_capitanes = df_players_events.loc[(df_players_events['position'].isin(['GKC','C']))&(df_players_events['goals']==1)]\n",
        "capitans_goals = goles_capitanes.get(['player_name','team_initials','goals']).groupby(['player_name','team_initials'],as_index=False).sum().sort_values(by='goals',ascending=False).head(10).reset_index(drop=True)\n",
        "# 11 Insights -> Top 5 capitanes con más partidos\n",
        "capitans_matchs = df_players_matchs.loc[(df_players_matchs['position'].isin(['GKC','C']))]\n",
        "capitans_matchs = capitans_matchs.get(['player_name','team_initials','matchs']).groupby(['player_name','team_initials'],as_index=False).sum().sort_values(by='matchs',ascending=False).head(5).reset_index(drop=True)\n",
        "# 12 Insights -> Top 10 jugadores con más amarillas en mundiales\n",
        "def cantidad_amarillas(cadena):\n",
        "  contador = cadena.count('Y')\n",
        "  if contador >2:\n",
        "    return contador - 1\n",
        "  else:\n",
        "    return contador\n",
        "df_players_events['yellow_cards'] = df_players_events['event'].apply(cantidad_amarillas)\n",
        "yellow_cards_top = df_players_events.get(['player_name','team_initials','yellow_cards']).groupby(['player_name','team_initials'],as_index=False).sum().sort_values(by='yellow_cards',ascending=False).head(10).reset_index(drop=True)\n",
        "# 13 Insights -> Top 10 jugadores con más amarillas en mundiales\n",
        "def cantidad_rojas(cadena):\n",
        "    return cadena.count('R')\n",
        "df_players_events['red_cards'] = df_players_events['event'].apply(cantidad_rojas)\n",
        "red_cards_top = df_players_events.get(['player_name','team_initials','red_cards']).groupby(['player_name','team_initials'],as_index=False).sum().sort_values(by='red_cards',ascending=False).head(10).reset_index(drop=True)\n",
        "# 13 Insights -> Top 5 jugadores con más goles entrando de suplentes\n",
        "players_goal_in = df_players_events.loc[(df_players_events['event'].str.contains(pat='I')) & ((df_players_events['event'].str.contains(pat='G'))|(df_players_events['event'].str.contains(pat='P')))]\n",
        "players_goal_in = players_goal_in.get(['player_name','team_initials','goals']).groupby(['player_name','team_initials'],as_index=False).sum().sort_values(by='goals',ascending=False).head(5).reset_index(drop=True)\n",
        "# 14 Insights --> Top 5 jugadores con más autogoles en mundiales\n",
        "def cantidad_autgoles(cadena):\n",
        "    return cadena.count('W')\n",
        "auto_goal = df_players_events.loc[(df_players_events['event'].str.contains(pat='W'))]\n",
        "auto_goal['auto_goals'] = auto_goal['event'].apply(cantidad_autgoles)\n",
        "players_auto_goal = auto_goal.get(['player_name','team_initials','auto_goals']).groupby(['player_name','team_initials'],as_index=False).sum().sort_values(by='auto_goals',ascending=False).reset_index(drop=True)\n",
        "\n"
      ],
      "metadata": {
        "colab": {
          "base_uri": "https://localhost:8080/"
        },
        "id": "ktOLl4qumUkK",
        "outputId": "3c6a1875-51fd-4575-a89a-9ebae73ff5e4"
      },
      "execution_count": null,
      "outputs": [
        {
          "output_type": "stream",
          "name": "stderr",
          "text": [
            "<ipython-input-81-f10fd4643650>:52: SettingWithCopyWarning: \n",
            "A value is trying to be set on a copy of a slice from a DataFrame.\n",
            "Try using .loc[row_indexer,col_indexer] = value instead\n",
            "\n",
            "See the caveats in the documentation: https://pandas.pydata.org/pandas-docs/stable/user_guide/indexing.html#returning-a-view-versus-a-copy\n",
            "  auto_goal['auto_goals'] = auto_goal['event'].apply(cantidad_autgoles)\n"
          ]
        }
      ]
    },
    {
      "cell_type": "code",
      "source": [
        "# Transformación de gold data a dashboard gold data dataframe matches\n",
        "# 15 Insights --> Top 10 Arbitros con más partidos\n",
        "referee_counts = matches_worldcup['referee'].value_counts()\n",
        "assistant1_counts = matches_worldcup['assistant_1'].value_counts()\n",
        "assistant2_counts = matches_worldcup['assistant_2'].value_counts()\n",
        "combined_counts = pd.concat([referee_counts, assistant1_counts, assistant2_counts], axis=1, sort=True)\n",
        "combined_counts.columns = ['referee', 'assistant_1', 'assistant_2']\n",
        "combined_counts = combined_counts.fillna(0)\n",
        "combined_counts['total_appearances'] = combined_counts['referee'] + combined_counts['assistant_1'] + combined_counts['assistant_2']\n",
        "top_matches_referees = combined_counts.reset_index().rename(columns={'index': 'person'}).sort_values(by='total_appearances', ascending=False).head(10).reset_index(drop=True)\n",
        "# 16 Insights --> Top 10 partidos con más goles\n",
        "matches_worldcup['total_goals'] = matches_worldcup['home_team_goals'] + matches_worldcup['away_team_goals']\n",
        "top_matches_goals = matches_worldcup.get(['year','stage','home_team_name','home_team_goals','away_team_goals','away_team_name','total_goals']).sort_values(by='total_goals',ascending=False).reset_index(drop=True).head(10)\n",
        "# 16 Insights --> Top 10 goleadas historicas de locales\n",
        "top_local_goals = matches_worldcup.get(['year','stage','home_team_name','home_team_goals','away_team_goals','away_team_name']).sort_values(by='home_team_goals',ascending=False).reset_index(drop=True).head(10)\n",
        "# 17 Insights --> Top 10 goleadas historicas de visitantes\n",
        "top_away_goals = matches_worldcup.get(['year','stage','home_team_name','home_team_goals','away_team_goals','away_team_name']).sort_values(by='away_team_goals',ascending=False).reset_index(drop=True).head(10)\n",
        "# 18 Insights --> Remontada de visitantes despues de ir perdiendo finalizando el primer tiempo\n",
        "remontada_visitantes = matches_worldcup.loc[(matches_worldcup['half_time_home_goals'] > matches_worldcup['half_time_away_goals']) & (matches_worldcup['away_team_goals'] > matches_worldcup['home_team_goals'])]\n",
        "# 19 Insights --> Remontada de locales despues de ir perdiendo finalizando el primer tiempo\n",
        "remontada_locales = matches_worldcup.loc[(matches_worldcup['half_time_home_goals'] < matches_worldcup['half_time_away_goals']) & (matches_worldcup['away_team_goals'] < matches_worldcup['home_team_goals'])]\n",
        "# 20 Insights --> Top 10 partidos con más asistencias\n",
        "top_10_attendance_matches = matches_worldcup.get(['datetime','stage','stadium','city','home_team_name','home_team_goals','away_team_goals','away_team_name','attendance']).sort_values(by='attendance',ascending=False).reset_index(drop=True).head(10)\n",
        "# 21 Insights --> Top 10 grupo con más goles por mundial\n",
        "groups_matcheswc = matches_worldcup.loc[(matches_worldcup['stage'].isin(['Group 1', 'Group 4', 'Group 2', 'Group 3','Group 5','Group 6','Group B', 'Group A',\n",
        "                                                      'Group C', 'Group D', 'Group F', 'Group E','Group H', 'Group G']))]\n",
        "top_10_goals_group = groups_matcheswc.get(['year','stage','total_goals']).groupby(['year','stage'],as_index=False).sum().sort_values(by='total_goals',ascending=False).head(10).reset_index(drop=True)\n",
        "# 22 Insights --> Top 10 finales con más asistentes\n",
        "top_10_finals_attendance = matches_worldcup.get(['datetime','stage','stadium','city','home_team_name','home_team_goals','away_team_goals','away_team_name','win_conditions','attendance','total_goals'])\\\n",
        ".loc[(matches_worldcup['stage'] == 'Final')]\\\n",
        ".sort_values(by='attendance',ascending=False).reset_index(drop=True).head(10)\n",
        "# 23 Insights --> Top 10 finales con más goles\n",
        "top_10_finals_goals = matches_worldcup.get(['datetime','stage','stadium','city','home_team_name','home_team_goals','away_team_goals','away_team_name','win_conditions','attendance','total_goals'])\\\n",
        ".loc[(matches_worldcup['stage'] == 'Final')]\\\n",
        ".sort_values(by='total_goals',ascending=False).reset_index(drop=True).head(10)\n",
        "\n",
        "# 24 Insights --> Finales ganadas en penaltis\n",
        "finals_wins_penalties = matches_worldcup.get(['datetime','stage','stadium','city','home_team_name','home_team_goals','away_team_goals','away_team_name','win_conditions','attendance','total_goals'])\\\n",
        ".loc[(matches_worldcup['stage'] == 'Final') & (matches_worldcup['win_conditions'].str.contains(pat='penalties'))]\n",
        "\n",
        "# 25 Insights --> Partido con más amarillas\n",
        "most_yellows_cards = df_players_events.get(['matchid','yellow_cards']).groupby(['matchid'],as_index=False).sum().sort_values(by='yellow_cards',ascending=False)\n",
        "most_yellows_cards_matchs =pd.merge(most_yellows_cards,matches_worldcup. \\\n",
        "         get(['datetime','stage','stadium','city','home_team_name','home_team_goals','away_team_goals','away_team_name','matchid']),on ='matchid').head(2)\n",
        "# 26 Insights --> Partido con más rojas\n",
        "most_red_cards = df_players_events.get(['matchid','red_cards']).groupby(['matchid'],as_index=False).sum().sort_values(by='red_cards',ascending=False)\n",
        "most_red_cards_matchs =  pd.merge(most_red_cards,matches_worldcup. \\\n",
        "         get(['datetime','stage','stadium','city','home_team_name','home_team_goals','away_team_goals','away_team_name','matchid']),on ='matchid').head(1)\n",
        "# 27 Insights --> Mundiales con sus respectivos autogoles\n",
        "matches_world = matches_worldcup.get(['year','matchid'])\n",
        "auto_goals_year = pd.merge(matches_world,auto_goal.get(['matchid','auto_goals']),how='inner',on='matchid')\n",
        "auto_goal_wc = auto_goals_year.get(['year','auto_goals']).groupby(['year'],as_index=False).sum()\n",
        "auto_goal_worldcup = pd.merge(worldcups.get(['year','country']),auto_goal_wc,how='inner',on='year').sort_values(by='auto_goals',ascending=False).reset_index(drop=True)"
      ],
      "metadata": {
        "id": "dUDpUuiFm8ms"
      },
      "execution_count": null,
      "outputs": []
    },
    {
      "cell_type": "code",
      "source": [
        "\n",
        "# Carga de gold data dashboard a Cloud Storage\n",
        "dataframes_dashboards = {\n",
        "    'result_winners': result_winners,\n",
        "    'worldcups_top_goals': worldcups_top_goals,\n",
        "    'attendance_top_wc': attendance_top,\n",
        "    'sedes_mundiales_top': sedes_mundiales,\n",
        "    'campeones_sede': campeones_sede,\n",
        "    'metricas': metricas,\n",
        "    'top_10_scorers': top_10_scorers,\n",
        "    'top_5_playersgoals_match':top_5_playersgoals_match,\n",
        "    'top_10_matchesplayers':top_10_matchesplayers,\n",
        "    'capitans_goals':capitans_goals,\n",
        "    'capitans_matchs':capitans_matchs,\n",
        "    'yellow_cards_top':yellow_cards_top,\n",
        "    'red_cards_top':red_cards_top,\n",
        "    'players_goal_in':players_goal_in,\n",
        "    'players_auto_goal':players_auto_goal,\n",
        "    'top_matches_referees':top_matches_referees,\n",
        "    'top_matches_goals':top_matches_goals,\n",
        "    'top_local_goals':top_local_goals,\n",
        "    'top_away_goals':top_away_goals,\n",
        "    'remontada_visitantes':remontada_visitantes,\n",
        "    'remontada_locales':remontada_locales,\n",
        "    'top_10_attendance_matches':groups_matcheswc,\n",
        "    'top_10_goals_group':top_10_goals_group,\n",
        "    'top_10_finals_attendance':top_10_finals_attendance,\n",
        "    'top_10_finals_goals':top_10_finals_goals,\n",
        "    'finals_wins_penalties':finals_wins_penalties,\n",
        "    'most_yellows_cards_matchs':most_yellows_cards_matchs,\n",
        "    'most_red_cards_matchs':most_red_cards_matchs,\n",
        "    'most_red_cards_matchs':auto_goal_worldcup,\n",
        "}\n",
        "\n",
        "for df_name, df in dataframes_dashboards.items():\n",
        "    destination_blob_name = f'gold_data/dashboards/{df_name}_gold.csv'\n",
        "    upload_blob(bucket_name, df, destination_blob_name)"
      ],
      "metadata": {
        "colab": {
          "base_uri": "https://localhost:8080/"
        },
        "outputId": "366816b3-33ae-4fb9-a56d-2ec469854e30",
        "id": "WvYN94ieBH0W"
      },
      "execution_count": null,
      "outputs": [
        {
          "output_type": "stream",
          "name": "stdout",
          "text": [
            "File gold_data/dashboards/result_winners_gold.csv already exists in the bucket. Skipping upload.\n",
            "File gold_data/dashboards/worldcups_top_goals_gold.csv already exists in the bucket. Skipping upload.\n",
            "File gold_data/dashboards/attendance_top_wc_gold.csv already exists in the bucket. Skipping upload.\n",
            "File gold_data/dashboards/sedes_mundiales_top_gold.csv already exists in the bucket. Skipping upload.\n",
            "File gold_data/dashboards/campeones_sede_gold.csv already exists in the bucket. Skipping upload.\n",
            "File gold_data/dashboards/metricas_gold.csv already exists in the bucket. Skipping upload.\n",
            "File gold_data/dashboards/top_10_scorers_gold.csv already exists in the bucket. Skipping upload.\n",
            "File gold_data/dashboards/top_5_playersgoals_match_gold.csv already exists in the bucket. Skipping upload.\n",
            "File gold_data/dashboards/top_10_matchesplayers_gold.csv already exists in the bucket. Skipping upload.\n",
            "File gold_data/dashboards/capitans_goals_gold.csv already exists in the bucket. Skipping upload.\n",
            "File gold_data/dashboards/capitans_matchs_gold.csv already exists in the bucket. Skipping upload.\n",
            "File gold_data/dashboards/yellow_cards_top_gold.csv already exists in the bucket. Skipping upload.\n",
            "File gold_data/dashboards/red_cards_top_gold.csv already exists in the bucket. Skipping upload.\n",
            "File gold_data/dashboards/players_goal_in_gold.csv already exists in the bucket. Skipping upload.\n",
            "File gold_data/dashboards/players_auto_goal_gold.csv already exists in the bucket. Skipping upload.\n",
            "File gold_data/dashboards/top_matches_referees_gold.csv already exists in the bucket. Skipping upload.\n",
            "File gold_data/dashboards/top_matches_goals_gold.csv already exists in the bucket. Skipping upload.\n",
            "File gold_data/dashboards/top_local_goals_gold.csv already exists in the bucket. Skipping upload.\n",
            "File gold_data/dashboards/top_away_goals_gold.csv already exists in the bucket. Skipping upload.\n",
            "File gold_data/dashboards/remontada_visitantes_gold.csv already exists in the bucket. Skipping upload.\n",
            "File gold_data/dashboards/remontada_locales_gold.csv already exists in the bucket. Skipping upload.\n",
            "File gold_data/dashboards/top_10_attendance_matches_gold.csv already exists in the bucket. Skipping upload.\n",
            "File gold_data/dashboards/top_10_goals_group_gold.csv already exists in the bucket. Skipping upload.\n",
            "File gold_data/dashboards/top_10_finals_attendance_gold.csv already exists in the bucket. Skipping upload.\n",
            "File gold_data/dashboards/top_10_finals_goals_gold.csv already exists in the bucket. Skipping upload.\n",
            "File gold_data/dashboards/finals_wins_penalties_gold.csv already exists in the bucket. Skipping upload.\n",
            "File gold_data/dashboards/most_yellows_cards_matchs_gold.csv already exists in the bucket. Skipping upload.\n",
            "File gold_data/dashboards/most_red_cards_matchs_gold.csv already exists in the bucket. Skipping upload.\n"
          ]
        }
      ]
    },
    {
      "cell_type": "code",
      "source": [
        "#Carga de gold data dashboard a BigQuery\n",
        "from google.cloud import bigquery\n",
        "project_id = 'sqlcursolg'  # Replace with your Google Cloud Project ID\n",
        "dataset_id = 'gold_data_dashboards_fifa'  # Replace with the desired BigQuery dataset ID\n",
        "\n",
        "# Create a BigQuery client\n",
        "bigquery_client = bigquery.Client(project=project_id)\n",
        "\n",
        "# Create a BigQuery dataset if it does not exist\n",
        "create_bigquery_dataset_if_not_exists(bigquery_client, dataset_id)\n",
        "\n",
        "for df_name, df in dataframes_dashboards.items():\n",
        "    table_name = f'{df_name}_dashboard'\n",
        "    upload_dataframe_to_bigquery(bigquery_client,df,table_name)\n",
        "\n"
      ],
      "metadata": {
        "colab": {
          "base_uri": "https://localhost:8080/"
        },
        "id": "vpdU2RsS-pqN",
        "outputId": "ffce8c28-6a35-44a5-fd2c-e38597b1bfd0"
      },
      "execution_count": null,
      "outputs": [
        {
          "output_type": "stream",
          "name": "stdout",
          "text": [
            "Dataset 'gold_data_dashboards_fifa' already exists.\n",
            "DataFrame uploaded to BigQuery table: sqlcursolg.gold_data_dashboards_fifa.result_winners_dashboard\n",
            "DataFrame uploaded to BigQuery table: sqlcursolg.gold_data_dashboards_fifa.worldcups_top_goals_dashboard\n",
            "DataFrame uploaded to BigQuery table: sqlcursolg.gold_data_dashboards_fifa.attendance_top_wc_dashboard\n",
            "DataFrame uploaded to BigQuery table: sqlcursolg.gold_data_dashboards_fifa.sedes_mundiales_top_dashboard\n",
            "DataFrame uploaded to BigQuery table: sqlcursolg.gold_data_dashboards_fifa.campeones_sede_dashboard\n",
            "DataFrame uploaded to BigQuery table: sqlcursolg.gold_data_dashboards_fifa.metricas_dashboard\n",
            "DataFrame uploaded to BigQuery table: sqlcursolg.gold_data_dashboards_fifa.top_10_scorers_dashboard\n"
          ]
        },
        {
          "output_type": "stream",
          "name": "stderr",
          "text": [
            "/usr/local/lib/python3.10/dist-packages/google/cloud/bigquery/_pandas_helpers.py:603: UserWarning: Pyarrow could not determine the type of columns: position.\n",
            "  warnings.warn(\n"
          ]
        },
        {
          "output_type": "stream",
          "name": "stdout",
          "text": [
            "DataFrame uploaded to BigQuery table: sqlcursolg.gold_data_dashboards_fifa.top_5_playersgoals_match_dashboard\n",
            "DataFrame uploaded to BigQuery table: sqlcursolg.gold_data_dashboards_fifa.top_10_matchesplayers_dashboard\n",
            "DataFrame uploaded to BigQuery table: sqlcursolg.gold_data_dashboards_fifa.capitans_goals_dashboard\n",
            "DataFrame uploaded to BigQuery table: sqlcursolg.gold_data_dashboards_fifa.capitans_matchs_dashboard\n",
            "DataFrame uploaded to BigQuery table: sqlcursolg.gold_data_dashboards_fifa.yellow_cards_top_dashboard\n",
            "DataFrame uploaded to BigQuery table: sqlcursolg.gold_data_dashboards_fifa.red_cards_top_dashboard\n",
            "DataFrame uploaded to BigQuery table: sqlcursolg.gold_data_dashboards_fifa.players_goal_in_dashboard\n",
            "DataFrame uploaded to BigQuery table: sqlcursolg.gold_data_dashboards_fifa.players_auto_goal_dashboard\n",
            "DataFrame uploaded to BigQuery table: sqlcursolg.gold_data_dashboards_fifa.top_matches_referees_dashboard\n",
            "DataFrame uploaded to BigQuery table: sqlcursolg.gold_data_dashboards_fifa.top_matches_goals_dashboard\n",
            "DataFrame uploaded to BigQuery table: sqlcursolg.gold_data_dashboards_fifa.top_local_goals_dashboard\n",
            "DataFrame uploaded to BigQuery table: sqlcursolg.gold_data_dashboards_fifa.top_away_goals_dashboard\n",
            "DataFrame uploaded to BigQuery table: sqlcursolg.gold_data_dashboards_fifa.remontada_visitantes_dashboard\n",
            "DataFrame uploaded to BigQuery table: sqlcursolg.gold_data_dashboards_fifa.remontada_locales_dashboard\n",
            "DataFrame uploaded to BigQuery table: sqlcursolg.gold_data_dashboards_fifa.top_10_attendance_matches_dashboard\n",
            "DataFrame uploaded to BigQuery table: sqlcursolg.gold_data_dashboards_fifa.top_10_goals_group_dashboard\n",
            "DataFrame uploaded to BigQuery table: sqlcursolg.gold_data_dashboards_fifa.top_10_finals_attendance_dashboard\n",
            "DataFrame uploaded to BigQuery table: sqlcursolg.gold_data_dashboards_fifa.top_10_finals_goals_dashboard\n",
            "DataFrame uploaded to BigQuery table: sqlcursolg.gold_data_dashboards_fifa.finals_wins_penalties_dashboard\n",
            "DataFrame uploaded to BigQuery table: sqlcursolg.gold_data_dashboards_fifa.most_yellows_cards_matchs_dashboard\n",
            "DataFrame uploaded to BigQuery table: sqlcursolg.gold_data_dashboards_fifa.most_red_cards_matchs_dashboard\n"
          ]
        }
      ]
    },
    {
      "cell_type": "code",
      "source": [],
      "metadata": {
        "id": "FqVBzIjAJ-CG"
      },
      "execution_count": null,
      "outputs": []
    }
  ]
}